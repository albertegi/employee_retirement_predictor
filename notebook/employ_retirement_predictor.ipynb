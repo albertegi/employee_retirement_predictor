{
 "cells": [
  {
   "cell_type": "markdown",
   "id": "339c62c5",
   "metadata": {},
   "source": [
    "Employee Retirement Predictor\n",
    "\n",
    "Life Cycle of this Machine Learning Project\n",
    "\n",
    "- Understanding the problem statement\n",
    "- Data Collection\n",
    "- Data check\n",
    "- Exploratory Data Analysis\n",
    "- Data Pre-processing\n",
    "- Model training\n",
    "- Choose best model"
   ]
  },
  {
   "cell_type": "code",
   "execution_count": 2,
   "id": "2aa31f1d",
   "metadata": {},
   "outputs": [],
   "source": [
    "import pandas as pd\n",
    "from sqlalchemy import create_engine\n",
    "from dotenv import load_dotenv\n",
    "from urllib.parse import quote_plus\n",
    "import os\n",
    " \n",
    "load_dotenv()\n",
    " \n",
    "DB_USER = os.getenv('DB_USER')\n",
    "DB_PASSWORD = os.getenv('DB_PASSWORD')\n",
    "DB_HOST = os.getenv('DB_HOST')\n",
    "DB_PORT = os.getenv('DB_PORT')\n",
    "DB_NAME = os.getenv('DB_NAME')\n",
    " \n",
    "# Safely encode password\n",
    "encoded_password = quote_plus(DB_PASSWORD)\n",
    " \n",
    "connection_string = f'postgresql+psycopg2://{DB_USER}:{encoded_password}@{DB_HOST}:{DB_PORT}/{DB_NAME}'\n",
    "engine = create_engine(connection_string)\n",
    " \n",
    "df = pd.read_sql(\"SELECT * FROM nddcstaff\", con=engine)\n",
    " "
   ]
  },
  {
   "cell_type": "code",
   "execution_count": 3,
   "id": "89e0b844",
   "metadata": {},
   "outputs": [
    {
     "data": {
      "text/html": [
       "<div>\n",
       "<style scoped>\n",
       "    .dataframe tbody tr th:only-of-type {\n",
       "        vertical-align: middle;\n",
       "    }\n",
       "\n",
       "    .dataframe tbody tr th {\n",
       "        vertical-align: top;\n",
       "    }\n",
       "\n",
       "    .dataframe thead th {\n",
       "        text-align: right;\n",
       "    }\n",
       "</style>\n",
       "<table border=\"1\" class=\"dataframe\">\n",
       "  <thead>\n",
       "    <tr style=\"text-align: right;\">\n",
       "      <th></th>\n",
       "      <th>id</th>\n",
       "      <th>name</th>\n",
       "      <th>age</th>\n",
       "      <th>stateoforigin</th>\n",
       "      <th>lga</th>\n",
       "      <th>department</th>\n",
       "      <th>salary</th>\n",
       "      <th>employmentdate</th>\n",
       "      <th>description</th>\n",
       "      <th>email</th>\n",
       "    </tr>\n",
       "  </thead>\n",
       "  <tbody>\n",
       "    <tr>\n",
       "      <th>0</th>\n",
       "      <td>1</td>\n",
       "      <td>John Elsie</td>\n",
       "      <td>52</td>\n",
       "      <td>Akwa Ibom</td>\n",
       "      <td>Essien Udim</td>\n",
       "      <td>Planning</td>\n",
       "      <td>188034.31</td>\n",
       "      <td>2009-02-10</td>\n",
       "      <td>Engineer</td>\n",
       "      <td>emeka.emeka@nddc.gov.ng</td>\n",
       "    </tr>\n",
       "    <tr>\n",
       "      <th>1</th>\n",
       "      <td>2</td>\n",
       "      <td>Ahmed Ike</td>\n",
       "      <td>39</td>\n",
       "      <td>Bayelsa</td>\n",
       "      <td>Southern Ijaw</td>\n",
       "      <td>Engineering</td>\n",
       "      <td>103096.36</td>\n",
       "      <td>2024-03-26</td>\n",
       "      <td>Planner</td>\n",
       "      <td>chinedu.emeka@nddc.gov.ng</td>\n",
       "    </tr>\n",
       "  </tbody>\n",
       "</table>\n",
       "</div>"
      ],
      "text/plain": [
       "   id        name  age stateoforigin            lga   department     salary  \\\n",
       "0   1  John Elsie   52     Akwa Ibom    Essien Udim     Planning  188034.31   \n",
       "1   2   Ahmed Ike   39       Bayelsa  Southern Ijaw  Engineering  103096.36   \n",
       "\n",
       "  employmentdate description                      email  \n",
       "0     2009-02-10    Engineer    emeka.emeka@nddc.gov.ng  \n",
       "1     2024-03-26     Planner  chinedu.emeka@nddc.gov.ng  "
      ]
     },
     "execution_count": 3,
     "metadata": {},
     "output_type": "execute_result"
    }
   ],
   "source": [
    "df.head(2)"
   ]
  },
  {
   "cell_type": "markdown",
   "id": "e26760fa",
   "metadata": {},
   "source": []
  }
 ],
 "metadata": {
  "kernelspec": {
   "display_name": "venv",
   "language": "python",
   "name": "python3"
  },
  "language_info": {
   "codemirror_mode": {
    "name": "ipython",
    "version": 3
   },
   "file_extension": ".py",
   "mimetype": "text/x-python",
   "name": "python",
   "nbconvert_exporter": "python",
   "pygments_lexer": "ipython3",
   "version": "3.13.3"
  }
 },
 "nbformat": 4,
 "nbformat_minor": 5
}
